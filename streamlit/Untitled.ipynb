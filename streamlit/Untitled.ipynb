{
 "cells": [
  {
   "cell_type": "code",
   "execution_count": 3,
   "id": "5809613f-2f47-4ac2-b585-5338c697649c",
   "metadata": {},
   "outputs": [
    {
     "name": "stdout",
     "output_type": "stream",
     "text": [
      "Note: you may need to restart the kernel to use updated packages.\n"
     ]
    },
    {
     "name": "stderr",
     "output_type": "stream",
     "text": [
      "ERROR: Could not find a version that satisfies the requirement st-nav-bar (from versions: none)\n",
      "ERROR: No matching distribution found for st-nav-bar\n"
     ]
    }
   ],
   "source": [
    "pip install st-nav-bar"
   ]
  },
  {
   "cell_type": "code",
   "execution_count": 2,
   "id": "33fa1b29-5817-4758-a946-b900828c47f5",
   "metadata": {},
   "outputs": [
    {
     "name": "stdout",
     "output_type": "stream",
     "text": [
      "Collecting streamlit-navigation-bar\n",
      "  Downloading streamlit_navigation_bar-3.3.0-py3-none-any.whl.metadata (7.3 kB)\n",
      "Requirement already satisfied: streamlit>=1.33.0 in c:\\users\\playdata\\miniconda3\\lib\\site-packages (from streamlit-navigation-bar) (1.44.1)\n",
      "Collecting st-theme>=1.2.3 (from streamlit-navigation-bar)\n",
      "  Downloading st_theme-1.2.3-py3-none-any.whl.metadata (6.9 kB)\n",
      "Requirement already satisfied: altair<6,>=4.0 in c:\\users\\playdata\\miniconda3\\lib\\site-packages (from streamlit>=1.33.0->streamlit-navigation-bar) (5.5.0)\n",
      "Requirement already satisfied: blinker<2,>=1.0.0 in c:\\users\\playdata\\miniconda3\\lib\\site-packages (from streamlit>=1.33.0->streamlit-navigation-bar) (1.9.0)\n",
      "Requirement already satisfied: cachetools<6,>=4.0 in c:\\users\\playdata\\miniconda3\\lib\\site-packages (from streamlit>=1.33.0->streamlit-navigation-bar) (5.5.2)\n",
      "Requirement already satisfied: click<9,>=7.0 in c:\\users\\playdata\\miniconda3\\lib\\site-packages (from streamlit>=1.33.0->streamlit-navigation-bar) (8.1.8)\n",
      "Requirement already satisfied: numpy<3,>=1.23 in c:\\users\\playdata\\miniconda3\\lib\\site-packages (from streamlit>=1.33.0->streamlit-navigation-bar) (2.2.4)\n",
      "Requirement already satisfied: packaging<25,>=20 in c:\\users\\playdata\\miniconda3\\lib\\site-packages (from streamlit>=1.33.0->streamlit-navigation-bar) (24.2)\n",
      "Requirement already satisfied: pandas<3,>=1.4.0 in c:\\users\\playdata\\miniconda3\\lib\\site-packages (from streamlit>=1.33.0->streamlit-navigation-bar) (2.2.3)\n",
      "Requirement already satisfied: pillow<12,>=7.1.0 in c:\\users\\playdata\\miniconda3\\lib\\site-packages (from streamlit>=1.33.0->streamlit-navigation-bar) (11.1.0)\n",
      "Requirement already satisfied: protobuf<6,>=3.20 in c:\\users\\playdata\\miniconda3\\lib\\site-packages (from streamlit>=1.33.0->streamlit-navigation-bar) (5.29.4)\n",
      "Requirement already satisfied: pyarrow>=7.0 in c:\\users\\playdata\\miniconda3\\lib\\site-packages (from streamlit>=1.33.0->streamlit-navigation-bar) (19.0.1)\n",
      "Requirement already satisfied: requests<3,>=2.27 in c:\\users\\playdata\\miniconda3\\lib\\site-packages (from streamlit>=1.33.0->streamlit-navigation-bar) (2.32.3)\n",
      "Requirement already satisfied: tenacity<10,>=8.1.0 in c:\\users\\playdata\\miniconda3\\lib\\site-packages (from streamlit>=1.33.0->streamlit-navigation-bar) (9.1.2)\n",
      "Requirement already satisfied: toml<2,>=0.10.1 in c:\\users\\playdata\\miniconda3\\lib\\site-packages (from streamlit>=1.33.0->streamlit-navigation-bar) (0.10.2)\n",
      "Requirement already satisfied: typing-extensions<5,>=4.4.0 in c:\\users\\playdata\\miniconda3\\lib\\site-packages (from streamlit>=1.33.0->streamlit-navigation-bar) (4.12.2)\n",
      "Requirement already satisfied: watchdog<7,>=2.1.5 in c:\\users\\playdata\\miniconda3\\lib\\site-packages (from streamlit>=1.33.0->streamlit-navigation-bar) (6.0.0)\n",
      "Requirement already satisfied: gitpython!=3.1.19,<4,>=3.0.7 in c:\\users\\playdata\\miniconda3\\lib\\site-packages (from streamlit>=1.33.0->streamlit-navigation-bar) (3.1.44)\n",
      "Requirement already satisfied: pydeck<1,>=0.8.0b4 in c:\\users\\playdata\\miniconda3\\lib\\site-packages (from streamlit>=1.33.0->streamlit-navigation-bar) (0.9.1)\n",
      "Requirement already satisfied: tornado<7,>=6.0.3 in c:\\users\\playdata\\miniconda3\\lib\\site-packages (from streamlit>=1.33.0->streamlit-navigation-bar) (6.4.2)\n",
      "Requirement already satisfied: jinja2 in c:\\users\\playdata\\miniconda3\\lib\\site-packages (from altair<6,>=4.0->streamlit>=1.33.0->streamlit-navigation-bar) (3.1.6)\n",
      "Requirement already satisfied: jsonschema>=3.0 in c:\\users\\playdata\\miniconda3\\lib\\site-packages (from altair<6,>=4.0->streamlit>=1.33.0->streamlit-navigation-bar) (4.23.0)\n",
      "Requirement already satisfied: narwhals>=1.14.2 in c:\\users\\playdata\\miniconda3\\lib\\site-packages (from altair<6,>=4.0->streamlit>=1.33.0->streamlit-navigation-bar) (1.34.1)\n",
      "Requirement already satisfied: colorama in c:\\users\\playdata\\miniconda3\\lib\\site-packages (from click<9,>=7.0->streamlit>=1.33.0->streamlit-navigation-bar) (0.4.6)\n",
      "Requirement already satisfied: gitdb<5,>=4.0.1 in c:\\users\\playdata\\miniconda3\\lib\\site-packages (from gitpython!=3.1.19,<4,>=3.0.7->streamlit>=1.33.0->streamlit-navigation-bar) (4.0.12)\n",
      "Requirement already satisfied: python-dateutil>=2.8.2 in c:\\users\\playdata\\miniconda3\\lib\\site-packages (from pandas<3,>=1.4.0->streamlit>=1.33.0->streamlit-navigation-bar) (2.9.0.post0)\n",
      "Requirement already satisfied: pytz>=2020.1 in c:\\users\\playdata\\miniconda3\\lib\\site-packages (from pandas<3,>=1.4.0->streamlit>=1.33.0->streamlit-navigation-bar) (2025.2)\n",
      "Requirement already satisfied: tzdata>=2022.7 in c:\\users\\playdata\\miniconda3\\lib\\site-packages (from pandas<3,>=1.4.0->streamlit>=1.33.0->streamlit-navigation-bar) (2025.2)\n",
      "Requirement already satisfied: charset-normalizer<4,>=2 in c:\\users\\playdata\\miniconda3\\lib\\site-packages (from requests<3,>=2.27->streamlit>=1.33.0->streamlit-navigation-bar) (3.3.2)\n",
      "Requirement already satisfied: idna<4,>=2.5 in c:\\users\\playdata\\miniconda3\\lib\\site-packages (from requests<3,>=2.27->streamlit>=1.33.0->streamlit-navigation-bar) (3.7)\n",
      "Requirement already satisfied: urllib3<3,>=1.21.1 in c:\\users\\playdata\\miniconda3\\lib\\site-packages (from requests<3,>=2.27->streamlit>=1.33.0->streamlit-navigation-bar) (2.3.0)\n",
      "Requirement already satisfied: certifi>=2017.4.17 in c:\\users\\playdata\\miniconda3\\lib\\site-packages (from requests<3,>=2.27->streamlit>=1.33.0->streamlit-navigation-bar) (2025.1.31)\n",
      "Requirement already satisfied: smmap<6,>=3.0.1 in c:\\users\\playdata\\miniconda3\\lib\\site-packages (from gitdb<5,>=4.0.1->gitpython!=3.1.19,<4,>=3.0.7->streamlit>=1.33.0->streamlit-navigation-bar) (5.0.2)\n",
      "Requirement already satisfied: MarkupSafe>=2.0 in c:\\users\\playdata\\miniconda3\\lib\\site-packages (from jinja2->altair<6,>=4.0->streamlit>=1.33.0->streamlit-navigation-bar) (3.0.2)\n",
      "Requirement already satisfied: attrs>=22.2.0 in c:\\users\\playdata\\miniconda3\\lib\\site-packages (from jsonschema>=3.0->altair<6,>=4.0->streamlit>=1.33.0->streamlit-navigation-bar) (25.3.0)\n",
      "Requirement already satisfied: jsonschema-specifications>=2023.03.6 in c:\\users\\playdata\\miniconda3\\lib\\site-packages (from jsonschema>=3.0->altair<6,>=4.0->streamlit>=1.33.0->streamlit-navigation-bar) (2024.10.1)\n",
      "Requirement already satisfied: referencing>=0.28.4 in c:\\users\\playdata\\miniconda3\\lib\\site-packages (from jsonschema>=3.0->altair<6,>=4.0->streamlit>=1.33.0->streamlit-navigation-bar) (0.36.2)\n",
      "Requirement already satisfied: rpds-py>=0.7.1 in c:\\users\\playdata\\miniconda3\\lib\\site-packages (from jsonschema>=3.0->altair<6,>=4.0->streamlit>=1.33.0->streamlit-navigation-bar) (0.23.1)\n",
      "Requirement already satisfied: six>=1.5 in c:\\users\\playdata\\miniconda3\\lib\\site-packages (from python-dateutil>=2.8.2->pandas<3,>=1.4.0->streamlit>=1.33.0->streamlit-navigation-bar) (1.17.0)\n",
      "Downloading streamlit_navigation_bar-3.3.0-py3-none-any.whl (84 kB)\n",
      "Downloading st_theme-1.2.3-py3-none-any.whl (75 kB)\n",
      "Installing collected packages: st-theme, streamlit-navigation-bar\n",
      "Successfully installed st-theme-1.2.3 streamlit-navigation-bar-3.3.0\n"
     ]
    }
   ],
   "source": [
    "!pip install streamlit-navigation-bar"
   ]
  }
 ],
 "metadata": {
  "kernelspec": {
   "display_name": "Python 3 (ipykernel)",
   "language": "python",
   "name": "python3"
  },
  "language_info": {
   "codemirror_mode": {
    "name": "ipython",
    "version": 3
   },
   "file_extension": ".py",
   "mimetype": "text/x-python",
   "name": "python",
   "nbconvert_exporter": "python",
   "pygments_lexer": "ipython3",
   "version": "3.12.9"
  }
 },
 "nbformat": 4,
 "nbformat_minor": 5
}
