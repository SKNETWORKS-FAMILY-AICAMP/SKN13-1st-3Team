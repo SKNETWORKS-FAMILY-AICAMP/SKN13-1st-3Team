{
 "cells": [
  {
   "cell_type": "code",
   "execution_count": 12,
   "id": "362b43d6-80d7-4a8f-8b4b-ed7849a932d3",
   "metadata": {},
   "outputs": [
    {
     "data": {
      "text/plain": [
       "100000"
      ]
     },
     "execution_count": 12,
     "metadata": {},
     "output_type": "execute_result"
    }
   ],
   "source": []
  },
  {
   "cell_type": "code",
   "execution_count": 15,
   "id": "2da93444-f628-4de9-a064-d4ddc4c68704",
   "metadata": {},
   "outputs": [
    {
     "name": "stdout",
     "output_type": "stream",
     "text": [
      "2025-04-09.csv - 평균 휘발유: 1722.23\n",
      "2025-04-10.csv - 평균 휘발유: 1718.94\n",
      "주유소정보.csv - 평균 휘발유: 1722.23\n"
     ]
    }
   ],
   "source": [
    "import pandas as pd\n",
    "import os\n",
    "\n",
    "# CSV 파일들이 저장된 폴더 경로\n",
    "folder_path = r\"C:\\Users\\Playdata\\Documents\\SKN13-1st-3Team\\crawling\"\n",
    "column_name = '휘발유'  # 평균을 구할 column 이름\n",
    "\n",
    "# 결과 저장\n",
    "file_avg_list = []\n",
    "\n",
    "# 폴더 안 모든 CSV 파일 반복\n",
    "for filename in os.listdir(folder_path):\n",
    "    if filename.endswith('.csv'):\n",
    "        file_path = os.path.join(folder_path, filename)\n",
    "        df = pd.read_csv(file_path)\n",
    "        df['휘발유'] = pd.to_numeric(df['휘발유'].astype(str).str.replace(',', ''), errors='coerce')\n",
    "        if column_name in df.columns:\n",
    "            avg_value = df[column_name].mean()\n",
    "            file_avg_list.append((filename, avg_value))\n",
    "        else:\n",
    "            print(f\"'{column_name}' column not found in {filename}\")\n",
    "\n",
    "# 결과 출력\n",
    "for file, avg in file_avg_list:\n",
    "    print(f\"{file} - 평균 {column_name}: {avg:.2f}\")\n",
    "\n",
    "# # 그래프 그리기\n",
    "# import altair as alt\n",
    "\n",
    "# chart = alt.Chart(avg_df).mark_line(point=True).encode(\n",
    "#     x='date:T',\n",
    "#     y='average:Q',\n",
    "#     tooltip=['date:T', 'average:Q']\n",
    "# ).properties(\n",
    "#     title='날짜별 평균 가격 변화'\n",
    "# )\n",
    "\n",
    "# st.altair_chart(chart, use_container_width=True)"
   ]
  },
  {
   "cell_type": "code",
   "execution_count": null,
   "id": "85690bd2-ed68-4582-ae9f-0aca552e0762",
   "metadata": {},
   "outputs": [],
   "source": []
  }
 ],
 "metadata": {
  "kernelspec": {
   "display_name": "Python 3 (ipykernel)",
   "language": "python",
   "name": "python3"
  },
  "language_info": {
   "codemirror_mode": {
    "name": "ipython",
    "version": 3
   },
   "file_extension": ".py",
   "mimetype": "text/x-python",
   "name": "python",
   "nbconvert_exporter": "python",
   "pygments_lexer": "ipython3",
   "version": "3.12.9"
  }
 },
 "nbformat": 4,
 "nbformat_minor": 5
}
